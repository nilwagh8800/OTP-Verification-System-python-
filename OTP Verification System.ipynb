{
 "cells": [
  {
   "cell_type": "code",
   "execution_count": 1,
   "id": "68d34070",
   "metadata": {},
   "outputs": [
    {
     "name": "stdout",
     "output_type": "stream",
     "text": [
      "Enter your email address: nilwagh8800@gmail.com\n",
      "Simulating sending OTP to nilwagh8800@gmail.com: 270191\n",
      "Enter the OTP received: 270191\n",
      "OTP verification successful. Access granted!\n"
     ]
    }
   ],
   "source": [
    "import random\n",
    "\n",
    "def generate_otp():\n",
    "    \"\"\"Generate a 6-digit OTP randomly.\"\"\"\n",
    "    return str(random.randint(100000, 999999))\n",
    "\n",
    "def send_otp(email, otp):\n",
    "    \"\"\"Simulate sending the OTP to the user's email address.\"\"\"\n",
    "    print(f\"Simulating sending OTP to {email}: {otp}\")\n",
    "\n",
    "def prompt_for_otp():\n",
    "    \"\"\"Prompt the user to enter the OTP received in their email.\"\"\"\n",
    "    return input(\"Enter the OTP received: \")\n",
    "\n",
    "def verify_otp(otp, entered_otp):\n",
    "    \"\"\"Verify if the entered OTP matches the generated OTP.\"\"\"\n",
    "    return otp == entered_otp\n",
    "\n",
    "def main():\n",
    "    email = input(\"Enter your email address: \")\n",
    "    \n",
    "    otp = generate_otp()\n",
    "    send_otp(email, otp)\n",
    "    \n",
    "    attempts = 3\n",
    "    while attempts > 0:\n",
    "        entered_otp = prompt_for_otp()\n",
    "        if verify_otp(otp, entered_otp):\n",
    "            print(\"OTP verification successful. Access granted!\")\n",
    "            break\n",
    "        else:\n",
    "            print(\"Invalid OTP. Please try again.\")\n",
    "            attempts -= 1\n",
    "    else:\n",
    "        print(\"You've exceeded the maximum number of attempts. Access denied.\")\n",
    "\n",
    "if __name__ == \"__main__\":\n",
    "    main()"
   ]
  },
  {
   "cell_type": "code",
   "execution_count": null,
   "id": "dd08ce5d",
   "metadata": {},
   "outputs": [],
   "source": []
  }
 ],
 "metadata": {
  "kernelspec": {
   "display_name": "Python 3 (ipykernel)",
   "language": "python",
   "name": "python3"
  },
  "language_info": {
   "codemirror_mode": {
    "name": "ipython",
    "version": 3
   },
   "file_extension": ".py",
   "mimetype": "text/x-python",
   "name": "python",
   "nbconvert_exporter": "python",
   "pygments_lexer": "ipython3",
   "version": "3.11.5"
  }
 },
 "nbformat": 4,
 "nbformat_minor": 5
}
